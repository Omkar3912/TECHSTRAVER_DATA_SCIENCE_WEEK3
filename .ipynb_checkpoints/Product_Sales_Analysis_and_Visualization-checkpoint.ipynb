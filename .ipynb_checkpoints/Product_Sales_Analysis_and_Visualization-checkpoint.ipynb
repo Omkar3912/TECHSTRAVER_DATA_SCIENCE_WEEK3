{
 "cells": [
  {
   "cell_type": "markdown",
   "id": "e54c4a2d",
   "metadata": {},
   "source": [
    "Step 1: Import Libraries and Load Data"
   ]
  },
  {
   "cell_type": "code",
   "execution_count": 3,
   "id": "f900bce6",
   "metadata": {},
   "outputs": [
    {
     "ename": "FileNotFoundError",
     "evalue": "[Errno 2] No such file or directory: 'Amazon 2_Raw.xlsx'",
     "output_type": "error",
     "traceback": [
      "\u001b[1;31m---------------------------------------------------------------------------\u001b[0m",
      "\u001b[1;31mFileNotFoundError\u001b[0m                         Traceback (most recent call last)",
      "Cell \u001b[1;32mIn[3], line 8\u001b[0m\n\u001b[0;32m      4\u001b[0m \u001b[38;5;28;01mimport\u001b[39;00m \u001b[38;5;21;01mseaborn\u001b[39;00m \u001b[38;5;28;01mas\u001b[39;00m \u001b[38;5;21;01msns\u001b[39;00m\n\u001b[0;32m      7\u001b[0m file_path \u001b[38;5;241m=\u001b[39m \u001b[38;5;124m'\u001b[39m\u001b[38;5;124mAmazon 2_Raw.xlsx\u001b[39m\u001b[38;5;124m'\u001b[39m  \n\u001b[1;32m----> 8\u001b[0m data \u001b[38;5;241m=\u001b[39m \u001b[43mpd\u001b[49m\u001b[38;5;241;43m.\u001b[39;49m\u001b[43mread_excel\u001b[49m\u001b[43m(\u001b[49m\u001b[43mfile_path\u001b[49m\u001b[43m)\u001b[49m\n",
      "File \u001b[1;32m~\\AppData\\Local\\Programs\\Python\\Python310\\lib\\site-packages\\pandas\\io\\excel\\_base.py:495\u001b[0m, in \u001b[0;36mread_excel\u001b[1;34m(io, sheet_name, header, names, index_col, usecols, dtype, engine, converters, true_values, false_values, skiprows, nrows, na_values, keep_default_na, na_filter, verbose, parse_dates, date_parser, date_format, thousands, decimal, comment, skipfooter, storage_options, dtype_backend, engine_kwargs)\u001b[0m\n\u001b[0;32m    493\u001b[0m \u001b[38;5;28;01mif\u001b[39;00m \u001b[38;5;129;01mnot\u001b[39;00m \u001b[38;5;28misinstance\u001b[39m(io, ExcelFile):\n\u001b[0;32m    494\u001b[0m     should_close \u001b[38;5;241m=\u001b[39m \u001b[38;5;28;01mTrue\u001b[39;00m\n\u001b[1;32m--> 495\u001b[0m     io \u001b[38;5;241m=\u001b[39m \u001b[43mExcelFile\u001b[49m\u001b[43m(\u001b[49m\n\u001b[0;32m    496\u001b[0m \u001b[43m        \u001b[49m\u001b[43mio\u001b[49m\u001b[43m,\u001b[49m\n\u001b[0;32m    497\u001b[0m \u001b[43m        \u001b[49m\u001b[43mstorage_options\u001b[49m\u001b[38;5;241;43m=\u001b[39;49m\u001b[43mstorage_options\u001b[49m\u001b[43m,\u001b[49m\n\u001b[0;32m    498\u001b[0m \u001b[43m        \u001b[49m\u001b[43mengine\u001b[49m\u001b[38;5;241;43m=\u001b[39;49m\u001b[43mengine\u001b[49m\u001b[43m,\u001b[49m\n\u001b[0;32m    499\u001b[0m \u001b[43m        \u001b[49m\u001b[43mengine_kwargs\u001b[49m\u001b[38;5;241;43m=\u001b[39;49m\u001b[43mengine_kwargs\u001b[49m\u001b[43m,\u001b[49m\n\u001b[0;32m    500\u001b[0m \u001b[43m    \u001b[49m\u001b[43m)\u001b[49m\n\u001b[0;32m    501\u001b[0m \u001b[38;5;28;01melif\u001b[39;00m engine \u001b[38;5;129;01mand\u001b[39;00m engine \u001b[38;5;241m!=\u001b[39m io\u001b[38;5;241m.\u001b[39mengine:\n\u001b[0;32m    502\u001b[0m     \u001b[38;5;28;01mraise\u001b[39;00m \u001b[38;5;167;01mValueError\u001b[39;00m(\n\u001b[0;32m    503\u001b[0m         \u001b[38;5;124m\"\u001b[39m\u001b[38;5;124mEngine should not be specified when passing \u001b[39m\u001b[38;5;124m\"\u001b[39m\n\u001b[0;32m    504\u001b[0m         \u001b[38;5;124m\"\u001b[39m\u001b[38;5;124man ExcelFile - ExcelFile already has the engine set\u001b[39m\u001b[38;5;124m\"\u001b[39m\n\u001b[0;32m    505\u001b[0m     )\n",
      "File \u001b[1;32m~\\AppData\\Local\\Programs\\Python\\Python310\\lib\\site-packages\\pandas\\io\\excel\\_base.py:1550\u001b[0m, in \u001b[0;36mExcelFile.__init__\u001b[1;34m(self, path_or_buffer, engine, storage_options, engine_kwargs)\u001b[0m\n\u001b[0;32m   1548\u001b[0m     ext \u001b[38;5;241m=\u001b[39m \u001b[38;5;124m\"\u001b[39m\u001b[38;5;124mxls\u001b[39m\u001b[38;5;124m\"\u001b[39m\n\u001b[0;32m   1549\u001b[0m \u001b[38;5;28;01melse\u001b[39;00m:\n\u001b[1;32m-> 1550\u001b[0m     ext \u001b[38;5;241m=\u001b[39m \u001b[43minspect_excel_format\u001b[49m\u001b[43m(\u001b[49m\n\u001b[0;32m   1551\u001b[0m \u001b[43m        \u001b[49m\u001b[43mcontent_or_path\u001b[49m\u001b[38;5;241;43m=\u001b[39;49m\u001b[43mpath_or_buffer\u001b[49m\u001b[43m,\u001b[49m\u001b[43m \u001b[49m\u001b[43mstorage_options\u001b[49m\u001b[38;5;241;43m=\u001b[39;49m\u001b[43mstorage_options\u001b[49m\n\u001b[0;32m   1552\u001b[0m \u001b[43m    \u001b[49m\u001b[43m)\u001b[49m\n\u001b[0;32m   1553\u001b[0m     \u001b[38;5;28;01mif\u001b[39;00m ext \u001b[38;5;129;01mis\u001b[39;00m \u001b[38;5;28;01mNone\u001b[39;00m:\n\u001b[0;32m   1554\u001b[0m         \u001b[38;5;28;01mraise\u001b[39;00m \u001b[38;5;167;01mValueError\u001b[39;00m(\n\u001b[0;32m   1555\u001b[0m             \u001b[38;5;124m\"\u001b[39m\u001b[38;5;124mExcel file format cannot be determined, you must specify \u001b[39m\u001b[38;5;124m\"\u001b[39m\n\u001b[0;32m   1556\u001b[0m             \u001b[38;5;124m\"\u001b[39m\u001b[38;5;124man engine manually.\u001b[39m\u001b[38;5;124m\"\u001b[39m\n\u001b[0;32m   1557\u001b[0m         )\n",
      "File \u001b[1;32m~\\AppData\\Local\\Programs\\Python\\Python310\\lib\\site-packages\\pandas\\io\\excel\\_base.py:1402\u001b[0m, in \u001b[0;36minspect_excel_format\u001b[1;34m(content_or_path, storage_options)\u001b[0m\n\u001b[0;32m   1399\u001b[0m \u001b[38;5;28;01mif\u001b[39;00m \u001b[38;5;28misinstance\u001b[39m(content_or_path, \u001b[38;5;28mbytes\u001b[39m):\n\u001b[0;32m   1400\u001b[0m     content_or_path \u001b[38;5;241m=\u001b[39m BytesIO(content_or_path)\n\u001b[1;32m-> 1402\u001b[0m \u001b[38;5;28;01mwith\u001b[39;00m \u001b[43mget_handle\u001b[49m\u001b[43m(\u001b[49m\n\u001b[0;32m   1403\u001b[0m \u001b[43m    \u001b[49m\u001b[43mcontent_or_path\u001b[49m\u001b[43m,\u001b[49m\u001b[43m \u001b[49m\u001b[38;5;124;43m\"\u001b[39;49m\u001b[38;5;124;43mrb\u001b[39;49m\u001b[38;5;124;43m\"\u001b[39;49m\u001b[43m,\u001b[49m\u001b[43m \u001b[49m\u001b[43mstorage_options\u001b[49m\u001b[38;5;241;43m=\u001b[39;49m\u001b[43mstorage_options\u001b[49m\u001b[43m,\u001b[49m\u001b[43m \u001b[49m\u001b[43mis_text\u001b[49m\u001b[38;5;241;43m=\u001b[39;49m\u001b[38;5;28;43;01mFalse\u001b[39;49;00m\n\u001b[0;32m   1404\u001b[0m \u001b[43m\u001b[49m\u001b[43m)\u001b[49m \u001b[38;5;28;01mas\u001b[39;00m handle:\n\u001b[0;32m   1405\u001b[0m     stream \u001b[38;5;241m=\u001b[39m handle\u001b[38;5;241m.\u001b[39mhandle\n\u001b[0;32m   1406\u001b[0m     stream\u001b[38;5;241m.\u001b[39mseek(\u001b[38;5;241m0\u001b[39m)\n",
      "File \u001b[1;32m~\\AppData\\Local\\Programs\\Python\\Python310\\lib\\site-packages\\pandas\\io\\common.py:882\u001b[0m, in \u001b[0;36mget_handle\u001b[1;34m(path_or_buf, mode, encoding, compression, memory_map, is_text, errors, storage_options)\u001b[0m\n\u001b[0;32m    873\u001b[0m         handle \u001b[38;5;241m=\u001b[39m \u001b[38;5;28mopen\u001b[39m(\n\u001b[0;32m    874\u001b[0m             handle,\n\u001b[0;32m    875\u001b[0m             ioargs\u001b[38;5;241m.\u001b[39mmode,\n\u001b[1;32m   (...)\u001b[0m\n\u001b[0;32m    878\u001b[0m             newline\u001b[38;5;241m=\u001b[39m\u001b[38;5;124m\"\u001b[39m\u001b[38;5;124m\"\u001b[39m,\n\u001b[0;32m    879\u001b[0m         )\n\u001b[0;32m    880\u001b[0m     \u001b[38;5;28;01melse\u001b[39;00m:\n\u001b[0;32m    881\u001b[0m         \u001b[38;5;66;03m# Binary mode\u001b[39;00m\n\u001b[1;32m--> 882\u001b[0m         handle \u001b[38;5;241m=\u001b[39m \u001b[38;5;28;43mopen\u001b[39;49m\u001b[43m(\u001b[49m\u001b[43mhandle\u001b[49m\u001b[43m,\u001b[49m\u001b[43m \u001b[49m\u001b[43mioargs\u001b[49m\u001b[38;5;241;43m.\u001b[39;49m\u001b[43mmode\u001b[49m\u001b[43m)\u001b[49m\n\u001b[0;32m    883\u001b[0m     handles\u001b[38;5;241m.\u001b[39mappend(handle)\n\u001b[0;32m    885\u001b[0m \u001b[38;5;66;03m# Convert BytesIO or file objects passed with an encoding\u001b[39;00m\n",
      "\u001b[1;31mFileNotFoundError\u001b[0m: [Errno 2] No such file or directory: 'Amazon 2_Raw.xlsx'"
     ]
    }
   ],
   "source": [
    "import pandas as pd\n",
    "import numpy as np\n",
    "import matplotlib.pyplot as plt\n",
    "import seaborn as sns\n",
    "\n",
    "\n",
    "file_path = 'Amazon_Raw.xlsx'  \n",
    "data = pd.read_excel(file_path)\n",
    "\n"
   ]
  },
  {
   "cell_type": "code",
   "execution_count": null,
   "id": "5e96f5c8",
   "metadata": {},
   "outputs": [],
   "source": [
    "# Display the first few rows of the dataframe\n",
    "data.head()"
   ]
  },
  {
   "cell_type": "markdown",
   "id": "b6340995",
   "metadata": {},
   "source": [
    "Step 2: Clean and Preprocess Data"
   ]
  },
  {
   "cell_type": "code",
   "execution_count": null,
   "id": "ea32b809",
   "metadata": {},
   "outputs": [],
   "source": [
    "# Handle missing values\n",
    "data = data.dropna()"
   ]
  },
  {
   "cell_type": "code",
   "execution_count": null,
   "id": "3bfe416f",
   "metadata": {},
   "outputs": [],
   "source": [
    "# Remove duplicates\n",
    "data = data.drop_duplicates()"
   ]
  },
  {
   "cell_type": "code",
   "execution_count": null,
   "id": "8261c88c",
   "metadata": {},
   "outputs": [],
   "source": [
    "# Convert data types\n",
    "data['Order Date'] = pd.to_datetime(data['Order Date'])\n",
    "data['Ship Date'] = pd.to_datetime(data['Ship Date'])\n"
   ]
  },
  {
   "cell_type": "code",
   "execution_count": null,
   "id": "ec8e2ff7",
   "metadata": {},
   "outputs": [],
   "source": [
    "# Extract useful information\n",
    "data[['Country', 'City', 'State']] = data['Geography'].str.split(',', expand=True)\n",
    "\n",
    "# Extract Month and Year from Order Date\n",
    "data['Order Month'] = data['Order Date'].dt.month\n",
    "data['Order Year'] = data['Order Date'].dt.year\n",
    "\n",
    "# Display the cleaned dataframe\n",
    "data.head()"
   ]
  },
  {
   "cell_type": "markdown",
   "id": "b4ce6837",
   "metadata": {},
   "source": [
    "Step 3: Conduct Exploratory Data Analysis (EDA)"
   ]
  },
  {
   "cell_type": "code",
   "execution_count": null,
   "id": "da865af1",
   "metadata": {},
   "outputs": [],
   "source": [
    "# Descriptive statistics\n",
    "data.describe()"
   ]
  },
  {
   "cell_type": "code",
   "execution_count": null,
   "id": "71effb8e",
   "metadata": {},
   "outputs": [],
   "source": [
    "plt.figure(figsize=(15, 5))\n",
    "\n",
    "# Sales distribution\n",
    "plt.subplot(1, 3, 1)\n",
    "sns.histplot(data['Sales'], bins=30, kde=True)\n",
    "plt.title('Sales Distribution')\n",
    "\n",
    "plt.tight_layout()\n",
    "plt.show()\n"
   ]
  },
  {
   "cell_type": "code",
   "execution_count": null,
   "id": "9510dd6e",
   "metadata": {},
   "outputs": [],
   "source": [
    "plt.figure(figsize=(15, 5))\n",
    "# Profit distribution\n",
    "plt.subplot(1, 3, 2)\n",
    "sns.histplot(data['Profit'], bins=30, kde=True)\n",
    "plt.title('Profit Distribution')\n",
    "plt.tight_layout()\n",
    "plt.show()\n"
   ]
  },
  {
   "cell_type": "code",
   "execution_count": null,
   "id": "0ef191d4",
   "metadata": {},
   "outputs": [],
   "source": [
    "plt.figure(figsize=(15, 5))\n",
    "# Quantity distribution\n",
    "plt.subplot(1, 3, 3)\n",
    "sns.histplot(data['Quantity'], bins=30, kde=True)\n",
    "plt.title('Quantity Distribution')\n",
    "plt.tight_layout()\n",
    "plt.show()"
   ]
  },
  {
   "cell_type": "markdown",
   "id": "190c85ce",
   "metadata": {},
   "source": [
    "Step 4: Draw Conclusions and Insights"
   ]
  },
  {
   "cell_type": "code",
   "execution_count": null,
   "id": "ed6ae463",
   "metadata": {},
   "outputs": [],
   "source": [
    "# Sales and profit by category\n",
    "category_sales_profit = data.groupby('Category')[['Sales', 'Profit']].sum().sort_values(by='Sales', ascending=False)\n",
    "\n",
    "# Plot sales by category\n",
    "plt.figure(figsize=(12, 6))\n",
    "sns.barplot(x=category_sales_profit.index, y=category_sales_profit['Sales'], palette='viridis')\n",
    "plt.title('Total Sales by Category')\n",
    "plt.xticks(rotation=45)\n",
    "plt.ylabel('Sales')\n",
    "plt.xlabel('Category')\n",
    "plt.show()\n",
    "\n"
   ]
  },
  {
   "cell_type": "code",
   "execution_count": null,
   "id": "ba128835",
   "metadata": {},
   "outputs": [],
   "source": [
    "# Sales and profit by category\n",
    "category_sales_profit = data.groupby('Category')[['Sales', 'Profit']].sum().sort_values(by='Sales', ascending=False)\n",
    "# Plot profit by category\n",
    "plt.figure(figsize=(12, 6))\n",
    "sns.barplot(x=category_sales_profit.index, y=category_sales_profit['Profit'], palette='viridis')\n",
    "plt.title('Total Profit by Category')\n",
    "plt.xticks(rotation=45)\n",
    "plt.ylabel('Profit')\n",
    "plt.xlabel('Category')\n",
    "plt.show()"
   ]
  },
  {
   "cell_type": "code",
   "execution_count": null,
   "id": "0f6ddc28",
   "metadata": {},
   "outputs": [],
   "source": [
    "# Trend of sales and profit over time\n",
    "monthly_sales_profit = data.groupby(['Order Year', 'Order Month'])[['Sales', 'Profit']].sum().reset_index()\n",
    "\n",
    "# Plot trend of sales over time\n",
    "plt.figure(figsize=(14, 7))\n",
    "sns.lineplot(x='Order Year', y='Sales', hue='Order Month', data=monthly_sales_profit, palette='coolwarm')\n",
    "plt.title('Monthly Sales Trend Over Time')\n",
    "plt.ylabel('Sales')\n",
    "plt.xlabel('Year')\n",
    "plt.legend(title='Month', bbox_to_anchor=(1.05, 1), loc='upper left')\n",
    "plt.show()\n",
    "\n",
    "\n"
   ]
  },
  {
   "cell_type": "code",
   "execution_count": null,
   "id": "8d71e6e7",
   "metadata": {},
   "outputs": [],
   "source": [
    "# Plot trend of profit over time\n",
    "plt.figure(figsize=(14, 7))\n",
    "sns.lineplot(x='Order Year', y='Profit', hue='Order Month', data=monthly_sales_profit, palette='coolwarm')\n",
    "plt.title('Monthly Profit Trend Over Time')\n",
    "plt.ylabel('Profit')\n",
    "plt.xlabel('Year')\n",
    "plt.legend(title='Month', bbox_to_anchor=(1.05, 1), loc='upper left')\n",
    "plt.show()"
   ]
  },
  {
   "cell_type": "markdown",
   "id": "718b633e",
   "metadata": {},
   "source": [
    "Best Month for Sales"
   ]
  },
  {
   "cell_type": "code",
   "execution_count": null,
   "id": "ef7cc42c",
   "metadata": {},
   "outputs": [],
   "source": [
    "# Group by month and year to find total sales for each month\n",
    "monthly_sales = data.groupby(['Order Year', 'Order Month'])['Sales'].sum().reset_index()\n",
    "\n",
    "# Identify the best month for sales\n",
    "best_month = monthly_sales.loc[monthly_sales['Sales'].idxmax()]\n",
    "\n",
    "# Display the result\n",
    "best_month\n",
    "\n"
   ]
  },
  {
   "cell_type": "markdown",
   "id": "40831f19",
   "metadata": {},
   "source": [
    "City with the Most Product Sales"
   ]
  },
  {
   "cell_type": "code",
   "execution_count": null,
   "id": "c539b262",
   "metadata": {},
   "outputs": [],
   "source": [
    "# Group by city to find total sales for each city\n",
    "city_sales = data.groupby('City')['Sales'].sum().reset_index()\n",
    "\n",
    "# Identify the city with the most product sales\n",
    "top_city = city_sales.loc[city_sales['Sales'].idxmax()]\n",
    "\n",
    "# Display the result\n",
    "top_city\n"
   ]
  },
  {
   "cell_type": "markdown",
   "id": "6991b7d5",
   "metadata": {},
   "source": [
    "Optimal Advertisement Timing"
   ]
  },
  {
   "cell_type": "code",
   "execution_count": null,
   "id": "0e2cde78",
   "metadata": {},
   "outputs": [],
   "source": [
    "# Group by month and year to find total sales for each month\n",
    "monthly_sales = data.groupby(['Order Year', 'Order Month'])['Sales'].sum().reset_index()\n",
    "\n",
    "# Plot the sales trend over months and years to identify peak times\n",
    "plt.figure(figsize=(14, 7))\n",
    "sns.lineplot(x='Order Month', y='Sales', hue='Order Year', data=monthly_sales, palette='coolwarm')\n",
    "plt.title('Monthly Sales Trend Over Time')\n",
    "plt.ylabel('Sales')\n",
    "plt.xlabel('Month')\n",
    "plt.legend(title='Year', bbox_to_anchor=(1.05, 1), loc='upper left')\n",
    "plt.show()\n"
   ]
  },
  {
   "cell_type": "markdown",
   "id": "325b2901",
   "metadata": {},
   "source": [
    "Products Sold Together"
   ]
  },
  {
   "cell_type": "code",
   "execution_count": null,
   "id": "0990eede",
   "metadata": {},
   "outputs": [],
   "source": [
    "# This analysis requires a different approach, usually involving market basket analysis or association rules mining.\n",
    "# Simplifying for this dataset:\n",
    "\n",
    "# Group by Order ID and count occurrences of each product\n",
    "order_products = data.groupby('Order ID')['Product Name'].apply(list)\n",
    "\n",
    "# Count pairs of products sold together\n",
    "from collections import Counter\n",
    "from itertools import combinations\n",
    "\n",
    "product_pairs = Counter()\n",
    "for products in order_products:\n",
    "    product_pairs.update(Counter(combinations(products, 2)))\n",
    "\n",
    "# Display the most common product pairs\n",
    "product_pairs.most_common(10)\n"
   ]
  },
  {
   "cell_type": "markdown",
   "id": "9f538476",
   "metadata": {},
   "source": [
    "Top-Selling Product"
   ]
  },
  {
   "cell_type": "code",
   "execution_count": null,
   "id": "15e97826",
   "metadata": {},
   "outputs": [],
   "source": [
    "# Group by product to find total sales for each product\n",
    "product_sales = data.groupby('Product Name')['Sales'].sum().reset_index()\n",
    "\n",
    "# Identify the top-selling product\n",
    "top_product = product_sales.loc[product_sales['Sales'].idxmax()]\n",
    "\n",
    "# Display the result\n",
    "top_product\n"
   ]
  },
  {
   "cell_type": "markdown",
   "id": "a4e420cf",
   "metadata": {},
   "source": [
    "Least Selling Product by Category and Brand"
   ]
  },
  {
   "cell_type": "code",
   "execution_count": null,
   "id": "00f1dd45",
   "metadata": {},
   "outputs": [],
   "source": [
    "# Assuming there are columns for Category and Brand (if not, update accordingly)\n",
    "# Group by category and product to find total sales for each product in each category\n",
    "category_product_sales = data.groupby(['Category', 'Product Name'])['Sales'].sum().reset_index()\n",
    "\n",
    "# Identify the least selling product in each category\n",
    "least_selling_products = category_product_sales.loc[category_product_sales.groupby('Category')['Sales'].idxmin()]\n",
    "\n",
    "# Display the result\n",
    "least_selling_products\n"
   ]
  },
  {
   "cell_type": "markdown",
   "id": "c1bd5577",
   "metadata": {},
   "source": [
    "Ratings Distribution"
   ]
  },
  {
   "cell_type": "code",
   "execution_count": null,
   "id": "91b88293",
   "metadata": {},
   "outputs": [],
   "source": [
    "# Replace 'Ratings' with the correct column name for ratings\n",
    "# If there is no ratings column, this part of the analysis cannot be performed\n",
    "if 'Ratings' in data.columns:\n",
    "    plt.figure(figsize=(10, 6))\n",
    "    sns.histplot(data['Ratings'], bins=10, kde=True)\n",
    "    plt.title('Ratings Distribution')\n",
    "    plt.xlabel('Ratings')\n",
    "    plt.ylabel('Frequency')\n",
    "    plt.show()\n",
    "else:\n",
    "    print(\"No Ratings column found in the dataset.\")\n"
   ]
  },
  {
   "cell_type": "markdown",
   "id": "34ac1204",
   "metadata": {},
   "source": [
    "Best Rated Brands"
   ]
  },
  {
   "cell_type": "code",
   "execution_count": null,
   "id": "51bbfcb1",
   "metadata": {},
   "outputs": [],
   "source": [
    "# Replace 'Ratings' and 'Brand' with the correct column names\n",
    "# If there is no ratings or brand column, this part of the analysis cannot be performed\n",
    "if 'Ratings' in data.columns and 'Brand' in data.columns:\n",
    "    # Group by brand to find the average rating for each brand\n",
    "    brand_ratings = data.groupby('Brand')['Ratings'].mean().reset_index()\n",
    "\n",
    "    # Identify the best rated brands\n",
    "    top_brands = brand_ratings.sort_values(by='Ratings', ascending=False).head(10)\n",
    "\n",
    "    # Display the result\n",
    "    top_brands\n",
    "else:\n",
    "    print(\"No Ratings or Brand column found in the dataset.\")\n"
   ]
  },
  {
   "cell_type": "code",
   "execution_count": null,
   "id": "2be9d2e6",
   "metadata": {},
   "outputs": [],
   "source": []
  }
 ],
 "metadata": {
  "kernelspec": {
   "display_name": "Python 3 (ipykernel)",
   "language": "python",
   "name": "python3"
  },
  "language_info": {
   "codemirror_mode": {
    "name": "ipython",
    "version": 3
   },
   "file_extension": ".py",
   "mimetype": "text/x-python",
   "name": "python",
   "nbconvert_exporter": "python",
   "pygments_lexer": "ipython3",
   "version": "3.10.7"
  }
 },
 "nbformat": 4,
 "nbformat_minor": 5
}
